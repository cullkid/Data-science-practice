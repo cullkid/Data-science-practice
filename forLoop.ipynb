{
  "cells": [
    {
      "cell_type": "markdown",
      "metadata": {
        "id": "view-in-github",
        "colab_type": "text"
      },
      "source": [
        "<a href=\"https://colab.research.google.com/github/cullkid/Data-science-practice/blob/main/forLoop.ipynb\" target=\"_parent\"><img src=\"https://colab.research.google.com/assets/colab-badge.svg\" alt=\"Open In Colab\"/></a>"
      ]
    },
    {
      "cell_type": "code",
      "execution_count": null,
      "metadata": {
        "id": "CXe4Yfhz9YMv"
      },
      "outputs": [],
      "source": [
        "fruits = ['Banana', 'Orange', 'Mango', 'Pear']"
      ]
    },
    {
      "cell_type": "code",
      "execution_count": null,
      "metadata": {
        "id": "2wWbN-iQ9YMx",
        "outputId": "b8ceea1d-a325-46cf-fdac-8e00c8677235"
      },
      "outputs": [
        {
          "name": "stdout",
          "output_type": "stream",
          "text": [
            "Banana\n",
            "Orange\n",
            "Mango\n",
            "Pear\n"
          ]
        }
      ],
      "source": [
        "for fruit in fruits:\n",
        "    print(fruit)"
      ]
    },
    {
      "cell_type": "code",
      "execution_count": null,
      "metadata": {
        "id": "tQoZmav79YMy",
        "outputId": "75189b44-ec8d-4ee3-be59-2745718a23ff"
      },
      "outputs": [
        {
          "name": "stdout",
          "output_type": "stream",
          "text": [
            "Number:1\n",
            "Number:2\n",
            "Number:3\n",
            "Number:4\n",
            "Number:5\n",
            "Number:6\n",
            "Number:7\n",
            "Number:8\n",
            "Number:9\n",
            "Number:10\n"
          ]
        }
      ],
      "source": [
        "for number in range(1,11):\n",
        "    print(f'Number:{number}')"
      ]
    },
    {
      "cell_type": "code",
      "execution_count": null,
      "metadata": {
        "id": "AxuqQYqr9YMy"
      },
      "outputs": [],
      "source": [
        "count = 0"
      ]
    },
    {
      "cell_type": "code",
      "execution_count": null,
      "metadata": {
        "id": "aPz1zqF-9YMz",
        "outputId": "0f92d003-cb20-4a26-ced5-8c7afbb4868b"
      },
      "outputs": [
        {
          "name": "stdout",
          "output_type": "stream",
          "text": [
            "count: 0\n",
            "count: 1\n"
          ]
        }
      ],
      "source": [
        "while count < 2:\n",
        "    print(f'count: {count}')\n",
        "    count += 1"
      ]
    },
    {
      "cell_type": "code",
      "execution_count": null,
      "metadata": {
        "id": "U2RokPUY9YMz"
      },
      "outputs": [],
      "source": [
        "worlds = 'python'"
      ]
    },
    {
      "cell_type": "code",
      "execution_count": null,
      "metadata": {
        "id": "YmoRUXXh9YMz",
        "outputId": "68f99be5-4111-4d35-b8ac-02c712b542a4"
      },
      "outputs": [
        {
          "name": "stdout",
          "output_type": "stream",
          "text": [
            "p\n",
            "y\n",
            "t\n",
            "h\n",
            "o\n",
            "n\n"
          ]
        }
      ],
      "source": [
        "for world in worlds:\n",
        "    print(world)"
      ]
    },
    {
      "cell_type": "code",
      "execution_count": null,
      "metadata": {
        "id": "QOahOXMZ9YM0"
      },
      "outputs": [],
      "source": [
        "break_loop = [1, 2, 3, 4, 5, 6,]"
      ]
    },
    {
      "cell_type": "code",
      "execution_count": null,
      "metadata": {
        "id": "ZD_X6QQp9YM0",
        "outputId": "d257de2f-3970-40a2-aec7-f82111dd332b"
      },
      "outputs": [
        {
          "name": "stdout",
          "output_type": "stream",
          "text": [
            "1\n",
            "2\n",
            "3\n",
            "4\n",
            "5\n"
          ]
        }
      ],
      "source": [
        "for index in break_loop:\n",
        "    if index > 5:\n",
        "        break\n",
        "    print(index)"
      ]
    },
    {
      "cell_type": "code",
      "execution_count": null,
      "metadata": {
        "id": "udBO27Af9YM1",
        "outputId": "0cc526bd-7315-4005-be7d-3c038f3487ce"
      },
      "outputs": [
        {
          "name": "stdout",
          "output_type": "stream",
          "text": [
            "1\n",
            "3\n",
            "4\n",
            "5\n",
            "6\n"
          ]
        }
      ],
      "source": [
        "for index in break_loop:\n",
        "    if index + 1 == 3:\n",
        "        continue\n",
        "    print(index)"
      ]
    },
    {
      "cell_type": "code",
      "execution_count": null,
      "metadata": {
        "id": "PZENFfKl9YM1"
      },
      "outputs": [],
      "source": []
    }
  ],
  "metadata": {
    "kernelspec": {
      "display_name": "base",
      "language": "python",
      "name": "python3"
    },
    "language_info": {
      "codemirror_mode": {
        "name": "ipython",
        "version": 3
      },
      "file_extension": ".py",
      "mimetype": "text/x-python",
      "name": "python",
      "nbconvert_exporter": "python",
      "pygments_lexer": "ipython3",
      "version": "3.12.7"
    },
    "colab": {
      "provenance": [],
      "include_colab_link": true
    }
  },
  "nbformat": 4,
  "nbformat_minor": 0
}