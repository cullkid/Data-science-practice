{
  "cells": [
    {
      "cell_type": "markdown",
      "metadata": {
        "id": "view-in-github",
        "colab_type": "text"
      },
      "source": [
        "<a href=\"https://colab.research.google.com/github/cullkid/Data-science-practice/blob/main/list.ipynb\" target=\"_parent\"><img src=\"https://colab.research.google.com/assets/colab-badge.svg\" alt=\"Open In Colab\"/></a>"
      ]
    },
    {
      "cell_type": "markdown",
      "metadata": {
        "id": "dsOJjNMs92wY"
      },
      "source": [
        "##### different between the list and tuple is that you can add and remove element in the list while you cannot do it in tuple"
      ]
    },
    {
      "cell_type": "code",
      "execution_count": null,
      "metadata": {
        "id": "JfIvTaMf92wa"
      },
      "outputs": [],
      "source": [
        "foods = ['rice', 'beans', 'casava', 'yam']"
      ]
    },
    {
      "cell_type": "code",
      "execution_count": null,
      "metadata": {
        "id": "SuNl7CbF92wb"
      },
      "outputs": [],
      "source": [
        "vagetable = ['spinach', 'Ugu', 'water leaf', 'bitter leaf']"
      ]
    },
    {
      "cell_type": "code",
      "execution_count": null,
      "metadata": {
        "id": "Y_CEIkhq92wc"
      },
      "outputs": [],
      "source": [
        "all_food = [foods, vagetable]"
      ]
    },
    {
      "cell_type": "code",
      "execution_count": null,
      "metadata": {
        "id": "Ha4qq6PW92wc",
        "outputId": "f6978966-20a6-45e0-c4b8-d05867d53e3c"
      },
      "outputs": [
        {
          "data": {
            "text/plain": [
              "[['rice', 'beans', 'casava', 'yam'],\n",
              " ['spinach', 'Ugu', 'water leaf', 'bitter leaf']]"
            ]
          },
          "execution_count": 4,
          "metadata": {},
          "output_type": "execute_result"
        }
      ],
      "source": [
        "all_food"
      ]
    },
    {
      "cell_type": "code",
      "execution_count": null,
      "metadata": {
        "id": "_HN6X81G92we",
        "outputId": "f59c689c-e1a7-42d1-b5db-4abae81eda36"
      },
      "outputs": [
        {
          "data": {
            "text/plain": [
              "['Ugu', 'water leaf']"
            ]
          },
          "execution_count": 5,
          "metadata": {},
          "output_type": "execute_result"
        }
      ],
      "source": [
        "vagetable[1:3]"
      ]
    },
    {
      "cell_type": "code",
      "execution_count": null,
      "metadata": {
        "id": "I4w5jzr192we",
        "outputId": "67014f84-e424-4f84-fd87-785ff2a19474"
      },
      "outputs": [
        {
          "data": {
            "text/plain": [
              "'yam'"
            ]
          },
          "execution_count": 6,
          "metadata": {},
          "output_type": "execute_result"
        }
      ],
      "source": [
        "foods[-1]"
      ]
    },
    {
      "cell_type": "code",
      "execution_count": null,
      "metadata": {
        "id": "y38AI-lV92wf",
        "outputId": "5586b2ec-3ce1-4989-f03c-7ba3fd89dbdc"
      },
      "outputs": [
        {
          "data": {
            "text/plain": [
              "list"
            ]
          },
          "execution_count": 7,
          "metadata": {},
          "output_type": "execute_result"
        }
      ],
      "source": [
        "type(all_food)"
      ]
    },
    {
      "cell_type": "code",
      "execution_count": null,
      "metadata": {
        "id": "n5kuKBIe92wf"
      },
      "outputs": [],
      "source": [
        "vagetable.append('mellon') # this add element into the created list variable which is vagetable"
      ]
    },
    {
      "cell_type": "code",
      "execution_count": null,
      "metadata": {
        "id": "WCUjWE8J92wg",
        "outputId": "78a77aab-f7b4-4626-f7b9-270e4ed33fef"
      },
      "outputs": [
        {
          "data": {
            "text/plain": [
              "['spinach', 'Ugu', 'water leaf', 'bitter leaf', 'mellon']"
            ]
          },
          "execution_count": 9,
          "metadata": {},
          "output_type": "execute_result"
        }
      ],
      "source": [
        "vagetable"
      ]
    },
    {
      "cell_type": "code",
      "execution_count": null,
      "metadata": {
        "id": "94CixI8U92wg",
        "outputId": "adb3d490-a2e6-4f16-f0c0-9120227faa1d"
      },
      "outputs": [
        {
          "data": {
            "text/plain": [
              "'mellon'"
            ]
          },
          "execution_count": 10,
          "metadata": {},
          "output_type": "execute_result"
        }
      ],
      "source": [
        "vagetable.pop(-1) # this will remove element from the list according the the pass index"
      ]
    },
    {
      "cell_type": "code",
      "execution_count": null,
      "metadata": {
        "id": "5SqDHNRn92wh",
        "outputId": "e252a34b-f01e-4270-d944-d1f20acd38db"
      },
      "outputs": [
        {
          "data": {
            "text/plain": [
              "['spinach', 'Ugu', 'water leaf', 'bitter leaf']"
            ]
          },
          "execution_count": 11,
          "metadata": {},
          "output_type": "execute_result"
        }
      ],
      "source": [
        "vagetable"
      ]
    },
    {
      "cell_type": "code",
      "execution_count": null,
      "metadata": {
        "id": "yPRchNXd92wh"
      },
      "outputs": [],
      "source": [
        "squares = []\n",
        "for num in range(1,6):\n",
        "    squares.append(num ** 2)  ## this append or add the lop into the squares, also all the lop number will be raise to power 2"
      ]
    },
    {
      "cell_type": "code",
      "execution_count": null,
      "metadata": {
        "id": "UA2LOVx892wh",
        "outputId": "25c312e8-d3e3-4e3a-85bf-f66e9607f5e4"
      },
      "outputs": [
        {
          "name": "stdout",
          "output_type": "stream",
          "text": [
            "[1, 4, 9, 16, 25]\n"
          ]
        }
      ],
      "source": [
        "print(squares)"
      ]
    },
    {
      "cell_type": "code",
      "execution_count": null,
      "metadata": {
        "id": "rDIGQ4W592wi"
      },
      "outputs": [],
      "source": [
        "create_list_comprehension = [num ** 2 for num in range(6)]  # this code is the same code above but in more simpler and easy way"
      ]
    },
    {
      "cell_type": "code",
      "execution_count": null,
      "metadata": {
        "id": "KQ1AmuZQ92wi",
        "outputId": "1aff0b14-2e95-48a1-cbad-3aa9aa159d11"
      },
      "outputs": [
        {
          "name": "stdout",
          "output_type": "stream",
          "text": [
            "[0, 1, 4, 9, 16, 25]\n"
          ]
        }
      ],
      "source": [
        "print(create_list_comprehension)"
      ]
    },
    {
      "cell_type": "code",
      "execution_count": null,
      "metadata": {
        "id": "z_Vlz4Qc92wj"
      },
      "outputs": [],
      "source": [
        "matrix_list = [[1,2,3,], [4,5,6], [7,8,9]]"
      ]
    },
    {
      "cell_type": "code",
      "execution_count": null,
      "metadata": {
        "id": "mpUGdjfT92wj",
        "outputId": "ca415921-ca7e-4301-bec5-63acd09dd4d1"
      },
      "outputs": [
        {
          "data": {
            "text/plain": [
              "[[1, 2, 3], [4, 5, 6], [7, 8, 9]]"
            ]
          },
          "execution_count": 17,
          "metadata": {},
          "output_type": "execute_result"
        }
      ],
      "source": [
        "matrix_list"
      ]
    },
    {
      "cell_type": "code",
      "execution_count": null,
      "metadata": {
        "id": "t1xgllyM92wj",
        "outputId": "39ef316a-6ecc-4412-b66e-3943ddb641e8"
      },
      "outputs": [
        {
          "data": {
            "text/plain": [
              "3"
            ]
          },
          "execution_count": 18,
          "metadata": {},
          "output_type": "execute_result"
        }
      ],
      "source": [
        "len(matrix_list)"
      ]
    },
    {
      "cell_type": "code",
      "execution_count": null,
      "metadata": {
        "id": "eK9wEuYd92wk",
        "outputId": "fd3ba59f-4f4a-4d9f-ac50-497314b7e115"
      },
      "outputs": [
        {
          "data": {
            "text/plain": [
              "[7, 8, 9]"
            ]
          },
          "execution_count": 19,
          "metadata": {},
          "output_type": "execute_result"
        }
      ],
      "source": [
        "matrix_list[-1]"
      ]
    },
    {
      "cell_type": "code",
      "execution_count": null,
      "metadata": {
        "id": "pRKRJVG992wk",
        "outputId": "f19cce81-b17f-4874-b73d-738162d0aa8f"
      },
      "outputs": [
        {
          "data": {
            "text/plain": [
              "6"
            ]
          },
          "execution_count": 20,
          "metadata": {},
          "output_type": "execute_result"
        }
      ],
      "source": [
        "matrix_list[1][2]"
      ]
    },
    {
      "cell_type": "code",
      "execution_count": null,
      "metadata": {
        "id": "nxNUY_g892wk"
      },
      "outputs": [],
      "source": [
        "first = ['one', 'two', 'three']\n",
        "second = ['four', 'five', 'six']\n",
        "third = ['seven', 'eight', 'nine']"
      ]
    },
    {
      "cell_type": "code",
      "execution_count": null,
      "metadata": {
        "id": "KAvSlGj392wk"
      },
      "outputs": [],
      "source": [
        "matrix_list2 = [first, second, third]"
      ]
    },
    {
      "cell_type": "code",
      "execution_count": null,
      "metadata": {
        "id": "ZSE-Bs2k92wl",
        "outputId": "db8d852a-d155-416f-949d-a14d01adeb0b"
      },
      "outputs": [
        {
          "data": {
            "text/plain": [
              "[['one', 'two', 'three'], ['four', 'five', 'six'], ['seven', 'eight', 'nine']]"
            ]
          },
          "execution_count": 23,
          "metadata": {},
          "output_type": "execute_result"
        }
      ],
      "source": [
        "matrix_list2"
      ]
    },
    {
      "cell_type": "code",
      "execution_count": null,
      "metadata": {
        "id": "Z9yAKTam92wl",
        "outputId": "7a7a5b19-9eeb-4b8b-cdbb-c5dc80bbb21d"
      },
      "outputs": [
        {
          "data": {
            "text/plain": [
              "'seven'"
            ]
          },
          "execution_count": 24,
          "metadata": {},
          "output_type": "execute_result"
        }
      ],
      "source": [
        "matrix_list2[-1][-3]"
      ]
    },
    {
      "cell_type": "code",
      "execution_count": null,
      "metadata": {
        "id": "fbg972oa92wl"
      },
      "outputs": [],
      "source": [
        "matrix_list2[0][2] = '3'"
      ]
    },
    {
      "cell_type": "code",
      "execution_count": null,
      "metadata": {
        "id": "5HbtjmpQ92wl",
        "outputId": "24b32e82-fed3-4c1b-eb80-cbead45de1a0"
      },
      "outputs": [
        {
          "data": {
            "text/plain": [
              "[['one', 'two', '3'], ['four', 'five', 'six'], ['seven', 'eight', 'nine']]"
            ]
          },
          "execution_count": 26,
          "metadata": {},
          "output_type": "execute_result"
        }
      ],
      "source": [
        "matrix_list2"
      ]
    },
    {
      "cell_type": "code",
      "execution_count": null,
      "metadata": {
        "id": "6EvwU4vv92wl"
      },
      "outputs": [],
      "source": [
        "forth = [10,11,12]\n",
        "matrix_list2.append(forth)"
      ]
    },
    {
      "cell_type": "code",
      "execution_count": null,
      "metadata": {
        "id": "4mJue23N92wl",
        "outputId": "96a96ed6-ff27-4479-dde1-12bd24ca2d4d"
      },
      "outputs": [
        {
          "data": {
            "text/plain": [
              "[['one', 'two', '3'],\n",
              " ['four', 'five', 'six'],\n",
              " ['seven', 'eight', 'nine'],\n",
              " [10, 11, 12]]"
            ]
          },
          "execution_count": 28,
          "metadata": {},
          "output_type": "execute_result"
        }
      ],
      "source": [
        "matrix_list2"
      ]
    },
    {
      "cell_type": "code",
      "execution_count": null,
      "metadata": {
        "id": "a3yBHd1W92wl"
      },
      "outputs": [],
      "source": [
        "matrix_list2[-1][-1] = '10'\n",
        "matrix_list2[-1][-2] = '11'\n",
        "matrix_list2[-1][-3] = '12'"
      ]
    },
    {
      "cell_type": "code",
      "execution_count": null,
      "metadata": {
        "id": "Dh_py6O492wm",
        "outputId": "771ae4f3-1b53-4ad8-e025-1148cd61d327"
      },
      "outputs": [
        {
          "data": {
            "text/plain": [
              "[['one', 'two', '3'],\n",
              " ['four', 'five', 'six'],\n",
              " ['seven', 'eight', 'nine'],\n",
              " ['12', '11', '10']]"
            ]
          },
          "execution_count": 30,
          "metadata": {},
          "output_type": "execute_result"
        }
      ],
      "source": [
        "matrix_list2"
      ]
    },
    {
      "cell_type": "code",
      "execution_count": null,
      "metadata": {
        "id": "XIoB19wo92wm"
      },
      "outputs": [],
      "source": [
        "dictionaryInlist = [{'John': {'age': 40, 'course': 'Javascript'},\n",
        " 'Keleb': {'age': 34, 'course': 'HTML'},\n",
        " 'Emmanuel': {'age': 32, 'course': 'Node'}}]"
      ]
    },
    {
      "cell_type": "code",
      "execution_count": null,
      "metadata": {
        "id": "u_GYhcnB92wm",
        "outputId": "39ebc25f-2a1e-4594-8d8e-9585b6e8d57c"
      },
      "outputs": [
        {
          "data": {
            "text/plain": [
              "[{'John': {'age': 40, 'course': 'Javascript'},\n",
              "  'Keleb': {'age': 34, 'course': 'HTML'},\n",
              "  'Emmanuel': {'age': 32, 'course': 'Node'}}]"
            ]
          },
          "execution_count": 32,
          "metadata": {},
          "output_type": "execute_result"
        }
      ],
      "source": [
        "dictionaryInlist"
      ]
    },
    {
      "cell_type": "code",
      "execution_count": null,
      "metadata": {
        "id": "6hQV5ckm92wm",
        "outputId": "15ade6e1-5867-42b5-c0d7-6a3fefc24b03"
      },
      "outputs": [
        {
          "data": {
            "text/plain": [
              "list"
            ]
          },
          "execution_count": 33,
          "metadata": {},
          "output_type": "execute_result"
        }
      ],
      "source": [
        "type(dictionaryInlist)"
      ]
    },
    {
      "cell_type": "code",
      "execution_count": null,
      "metadata": {
        "id": "8gOxSFFl92wm",
        "outputId": "ce26fe29-eab4-4104-c3cc-a2336fa45a9e"
      },
      "outputs": [
        {
          "data": {
            "text/plain": [
              "{'John': {'age': 40, 'course': 'Javascript'},\n",
              " 'Keleb': {'age': 34, 'course': 'HTML'},\n",
              " 'Emmanuel': {'age': 32, 'course': 'Node'}}"
            ]
          },
          "execution_count": 34,
          "metadata": {},
          "output_type": "execute_result"
        }
      ],
      "source": [
        "dictionaryInlist[0]"
      ]
    },
    {
      "cell_type": "code",
      "execution_count": null,
      "metadata": {
        "id": "d2UyRHil92wm",
        "outputId": "62b77eb6-85a8-4432-fda0-491259c86214"
      },
      "outputs": [
        {
          "data": {
            "text/plain": [
              "dict"
            ]
          },
          "execution_count": 36,
          "metadata": {},
          "output_type": "execute_result"
        }
      ],
      "source": [
        "type(dictionaryInlist[0])"
      ]
    },
    {
      "cell_type": "code",
      "execution_count": null,
      "metadata": {
        "id": "xOqrZHJ792wn",
        "outputId": "04a255e4-170d-47d8-c8c6-c2ca67d7c8f8"
      },
      "outputs": [
        {
          "data": {
            "text/plain": [
              "'HTML'"
            ]
          },
          "execution_count": 37,
          "metadata": {},
          "output_type": "execute_result"
        }
      ],
      "source": [
        "dictionaryInlist[0]['Keleb']['course']"
      ]
    },
    {
      "cell_type": "code",
      "execution_count": null,
      "metadata": {
        "id": "DDprThtL92wn"
      },
      "outputs": [],
      "source": [
        "dictionaryInlist2 = [[{'John': {'age': 40, 'course': 'Javascript'},\n",
        " 'Keleb': {'age': 34, 'course': 'HTML'},\n",
        " 'Emmanuel': {'age': 32, 'course': 'Node'}}\n",
        "], [{'Peter': {'age': 20, 'course': 'R'},\n",
        " 'Keleb': {'age': 64, 'course': 'Python'},\n",
        " 'Tone': {'age': 33, 'course': 'C#'}}]]"
      ]
    },
    {
      "cell_type": "code",
      "execution_count": null,
      "metadata": {
        "id": "mOgGTPQO92wn",
        "outputId": "1cec5518-df8a-4c14-d8ad-a7475cdce286"
      },
      "outputs": [
        {
          "data": {
            "text/plain": [
              "[[{'John': {'age': 40, 'course': 'Javascript'},\n",
              "   'Keleb': {'age': 34, 'course': 'HTML'},\n",
              "   'Emmanuel': {'age': 32, 'course': 'Node'}}],\n",
              " [{'Peter': {'age': 20, 'course': 'R'},\n",
              "   'Keleb': {'age': 64, 'course': 'Python'},\n",
              "   'Tone': {'age': 33, 'course': 'C#'}}]]"
            ]
          },
          "execution_count": 41,
          "metadata": {},
          "output_type": "execute_result"
        }
      ],
      "source": [
        "dictionaryInlist2"
      ]
    },
    {
      "cell_type": "code",
      "execution_count": null,
      "metadata": {
        "id": "zgBzKvCz92wn"
      },
      "outputs": [],
      "source": [
        "anotherList = [{'Izu': {'age': 47, 'course': 'SQL'},\n",
        " 'Mike': {'age': 31, 'course': 'CSS'},\n",
        " 'Okey': {'age': 26, 'course': 'Java'}}]\n",
        "dictionaryInlist2.append(anotherList)"
      ]
    },
    {
      "cell_type": "code",
      "execution_count": null,
      "metadata": {
        "id": "wk2d4UiX92wo",
        "outputId": "cbb95044-dc51-4ea3-8d45-841fe368b10c"
      },
      "outputs": [
        {
          "data": {
            "text/plain": [
              "[[{'John': {'age': 40, 'course': 'Javascript'},\n",
              "   'Keleb': {'age': 34, 'course': 'HTML'},\n",
              "   'Emmanuel': {'age': 32, 'course': 'Node'}}],\n",
              " [{'Peter': {'age': 20, 'course': 'R'},\n",
              "   'Keleb': {'age': 64, 'course': 'Python'},\n",
              "   'Tone': {'age': 33, 'course': 'C#'}}],\n",
              " [{'Izu': {'age': 47, 'course': 'SQL'},\n",
              "   'Mike': {'age': 31, 'course': 'CSS'},\n",
              "   'Okey': {'age': 26, 'course': 'Java'}}]]"
            ]
          },
          "execution_count": 43,
          "metadata": {},
          "output_type": "execute_result"
        }
      ],
      "source": [
        "dictionaryInlist2"
      ]
    },
    {
      "cell_type": "code",
      "execution_count": null,
      "metadata": {
        "id": "NtULtbqG92wo",
        "outputId": "19304dda-b36b-4532-e017-87fa4c44bf71"
      },
      "outputs": [
        {
          "data": {
            "text/plain": [
              "list"
            ]
          },
          "execution_count": 45,
          "metadata": {},
          "output_type": "execute_result"
        }
      ],
      "source": [
        "type(dictionaryInlist2[1])"
      ]
    },
    {
      "cell_type": "code",
      "execution_count": null,
      "metadata": {
        "id": "Qgbn39df92wo",
        "outputId": "c56438af-407e-49bd-e51b-4db75f7a4f09"
      },
      "outputs": [
        {
          "data": {
            "text/plain": [
              "33"
            ]
          },
          "execution_count": 46,
          "metadata": {},
          "output_type": "execute_result"
        }
      ],
      "source": [
        "dictionaryInlist2[1][0]['Tone']['age']"
      ]
    },
    {
      "cell_type": "code",
      "execution_count": null,
      "metadata": {
        "id": "ErzSY9q092wo"
      },
      "outputs": [],
      "source": []
    },
    {
      "cell_type": "code",
      "execution_count": null,
      "metadata": {
        "id": "9IIccfvr92wo"
      },
      "outputs": [],
      "source": []
    }
  ],
  "metadata": {
    "kernelspec": {
      "display_name": "base",
      "language": "python",
      "name": "python3"
    },
    "language_info": {
      "codemirror_mode": {
        "name": "ipython",
        "version": 3
      },
      "file_extension": ".py",
      "mimetype": "text/x-python",
      "name": "python",
      "nbconvert_exporter": "python",
      "pygments_lexer": "ipython3",
      "version": "3.12.7"
    },
    "colab": {
      "provenance": [],
      "include_colab_link": true
    }
  },
  "nbformat": 4,
  "nbformat_minor": 0
}