{
  "cells": [
    {
      "cell_type": "markdown",
      "metadata": {
        "id": "view-in-github",
        "colab_type": "text"
      },
      "source": [
        "<a href=\"https://colab.research.google.com/github/cullkid/Data-science-practice/blob/main/comparison.ipynb\" target=\"_parent\"><img src=\"https://colab.research.google.com/assets/colab-badge.svg\" alt=\"Open In Colab\"/></a>"
      ]
    },
    {
      "cell_type": "markdown",
      "metadata": {
        "id": "sgxYjU7h8wtd"
      },
      "source": [
        "# python comparisons"
      ]
    },
    {
      "cell_type": "code",
      "execution_count": null,
      "metadata": {
        "id": "0JTVVzuH8wte"
      },
      "outputs": [],
      "source": [
        "age = 37"
      ]
    },
    {
      "cell_type": "code",
      "execution_count": null,
      "metadata": {
        "id": "mxv_aJoQ8wtg",
        "outputId": "6743cf1c-3619-4350-c4d1-5658138583a1"
      },
      "outputs": [
        {
          "name": "stdout",
          "output_type": "stream",
          "text": [
            "I am older than you\n"
          ]
        }
      ],
      "source": [
        "if age > 20:\n",
        "    print('I am older than you')\n",
        "else:\n",
        "    print('I am your junior')"
      ]
    },
    {
      "cell_type": "code",
      "execution_count": null,
      "metadata": {
        "id": "xEqAQXcz8wth"
      },
      "outputs": [],
      "source": [
        "temprature = 30"
      ]
    },
    {
      "cell_type": "code",
      "execution_count": null,
      "metadata": {
        "id": "H0FZT1Fp8wth",
        "outputId": "26f722a2-5a66-4771-e9f4-ee88f4cde8c5"
      },
      "outputs": [
        {
          "name": "stdout",
          "output_type": "stream",
          "text": [
            "The weather is so nice\n"
          ]
        }
      ],
      "source": [
        "if temprature >= 40:\n",
        "    print('The weather is very hot')\n",
        "elif 30 == temprature <= 30:\n",
        "    print('The weather is so nice')\n",
        "else:\n",
        "    print(\"It's cold weather today\")"
      ]
    },
    {
      "cell_type": "code",
      "execution_count": null,
      "metadata": {
        "id": "IkNC-w_K8wti",
        "outputId": "02d720cc-8fc3-477c-a746-094da9ccece8"
      },
      "outputs": [
        {
          "data": {
            "text/plain": [
              "'Iam a boy'"
            ]
          },
          "execution_count": 18,
          "metadata": {},
          "output_type": "execute_result"
        }
      ],
      "source": [
        "'Iam a boy' if temprature == 30 else 'i am not a boy'"
      ]
    },
    {
      "cell_type": "code",
      "execution_count": null,
      "metadata": {
        "id": "prMxdMpZ8wti"
      },
      "outputs": [],
      "source": [
        "greater = False\n",
        "lesser = True"
      ]
    },
    {
      "cell_type": "code",
      "execution_count": null,
      "metadata": {
        "id": "ocgd3Bl28wtj",
        "outputId": "8cb8c98b-cdbc-4e68-e52a-33917ebb20b5"
      },
      "outputs": [
        {
          "name": "stdout",
          "output_type": "stream",
          "text": [
            "false\n"
          ]
        }
      ],
      "source": [
        "if greater:\n",
        "    print('true')\n",
        "else:\n",
        "    print('false')"
      ]
    },
    {
      "cell_type": "code",
      "execution_count": null,
      "metadata": {
        "id": "DIuwb8Yq8wtj"
      },
      "outputs": [],
      "source": []
    }
  ],
  "metadata": {
    "kernelspec": {
      "display_name": "base",
      "language": "python",
      "name": "python3"
    },
    "language_info": {
      "codemirror_mode": {
        "name": "ipython",
        "version": 3
      },
      "file_extension": ".py",
      "mimetype": "text/x-python",
      "name": "python",
      "nbconvert_exporter": "python",
      "pygments_lexer": "ipython3",
      "version": "3.12.7"
    },
    "colab": {
      "provenance": [],
      "include_colab_link": true
    }
  },
  "nbformat": 4,
  "nbformat_minor": 0
}