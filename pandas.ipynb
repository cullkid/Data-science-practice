{
  "cells": [
    {
      "cell_type": "markdown",
      "metadata": {
        "id": "view-in-github",
        "colab_type": "text"
      },
      "source": [
        "<a href=\"https://colab.research.google.com/github/cullkid/Data-science-practice/blob/main/pandas.ipynb\" target=\"_parent\"><img src=\"https://colab.research.google.com/assets/colab-badge.svg\" alt=\"Open In Colab\"/></a>"
      ]
    },
    {
      "cell_type": "markdown",
      "metadata": {
        "id": "eu9yaIvZ7n-1"
      },
      "source": [
        "To install pandas inside the terminal => pip3 install pandas"
      ]
    },
    {
      "cell_type": "code",
      "execution_count": null,
      "metadata": {
        "id": "OHAkkMY-7n-2"
      },
      "outputs": [],
      "source": [
        "import pandas as pd"
      ]
    },
    {
      "cell_type": "code",
      "execution_count": null,
      "metadata": {
        "id": "Lof0TNCA7n-3",
        "outputId": "02f73bce-6f93-4e07-b4b1-284f0fff407f"
      },
      "outputs": [
        {
          "data": {
            "text/plain": [
              "'2.2.3'"
            ]
          },
          "execution_count": 2,
          "metadata": {},
          "output_type": "execute_result"
        }
      ],
      "source": [
        "pd.__version__"
      ]
    },
    {
      "cell_type": "markdown",
      "metadata": {
        "id": "qcHF_nfU7n-4"
      },
      "source": [
        "pandas series"
      ]
    },
    {
      "cell_type": "code",
      "execution_count": null,
      "metadata": {
        "id": "1U-LqZzX7n-4"
      },
      "outputs": [],
      "source": [
        "pd_series = pd.Series([10,20,30,40,50,60,70], index=['a','b','c','d','e','f','g'])   # sytax of pandas series\n"
      ]
    },
    {
      "cell_type": "code",
      "execution_count": null,
      "metadata": {
        "id": "3F1ghCCd7n-4",
        "outputId": "1e8a2e89-ad42-457d-eeed-caea03204e6c"
      },
      "outputs": [
        {
          "data": {
            "text/plain": [
              "a    10\n",
              "b    20\n",
              "c    30\n",
              "d    40\n",
              "e    50\n",
              "f    60\n",
              "g    70\n",
              "dtype: int64"
            ]
          },
          "execution_count": 5,
          "metadata": {},
          "output_type": "execute_result"
        }
      ],
      "source": [
        "pd_series"
      ]
    },
    {
      "cell_type": "code",
      "execution_count": null,
      "metadata": {
        "id": "IZCnC3Ev7n-5",
        "outputId": "46fe30aa-7e8c-4a46-e2ed-add5865259b9"
      },
      "outputs": [
        {
          "data": {
            "text/plain": [
              "pandas.core.series.Series"
            ]
          },
          "execution_count": 6,
          "metadata": {},
          "output_type": "execute_result"
        }
      ],
      "source": [
        "type(pd_series)"
      ]
    },
    {
      "cell_type": "code",
      "execution_count": null,
      "metadata": {
        "id": "8J8fcPiB7n-5",
        "outputId": "01e39b09-3f67-48c8-abd2-3636aa0cf4e6"
      },
      "outputs": [
        {
          "data": {
            "text/plain": [
              "30"
            ]
          },
          "execution_count": 7,
          "metadata": {},
          "output_type": "execute_result"
        }
      ],
      "source": [
        "pd_series['c']"
      ]
    },
    {
      "cell_type": "code",
      "execution_count": null,
      "metadata": {
        "id": "lPIF3uVz7n-5",
        "outputId": "5036adf8-ee28-4242-b85e-09c2c92bf69c"
      },
      "outputs": [
        {
          "data": {
            "text/plain": [
              "a    10\n",
              "b    20\n",
              "c    30\n",
              "d    40\n",
              "dtype: int64"
            ]
          },
          "execution_count": 8,
          "metadata": {},
          "output_type": "execute_result"
        }
      ],
      "source": [
        "pd_series['a':'d']  # printing the series between a to d"
      ]
    },
    {
      "cell_type": "code",
      "execution_count": null,
      "metadata": {
        "id": "psjXErXV7n-6",
        "outputId": "44fa0c76-e110-408f-cb72-b82f9daa857b"
      },
      "outputs": [
        {
          "data": {
            "text/plain": [
              "a    11\n",
              "b    21\n",
              "c    31\n",
              "d    41\n",
              "e    51\n",
              "f    61\n",
              "g    71\n",
              "dtype: int64"
            ]
          },
          "execution_count": 9,
          "metadata": {},
          "output_type": "execute_result"
        }
      ],
      "source": [
        "pd_series + 1   # using arithmatics to series"
      ]
    },
    {
      "cell_type": "code",
      "execution_count": null,
      "metadata": {
        "id": "hLS_hRt-7n-6",
        "outputId": "b9d4ac9f-c407-40db-e901-27a73460fcea"
      },
      "outputs": [
        {
          "data": {
            "text/plain": [
              "a    10\n",
              "b    20\n",
              "c    30\n",
              "d    40\n",
              "e    50\n",
              "f    60\n",
              "g    70\n",
              "dtype: int64"
            ]
          },
          "execution_count": 10,
          "metadata": {},
          "output_type": "execute_result"
        }
      ],
      "source": [
        "pd_series * 1   # using arithmatics to series"
      ]
    },
    {
      "cell_type": "code",
      "execution_count": null,
      "metadata": {
        "id": "3SzB2Vxt7n-7",
        "outputId": "9308af51-e9f0-4fad-b2dc-d6d46d9f96f0"
      },
      "outputs": [
        {
          "data": {
            "text/plain": [
              "a     5.0\n",
              "b    10.0\n",
              "c    15.0\n",
              "d    20.0\n",
              "e    25.0\n",
              "f    30.0\n",
              "g    35.0\n",
              "dtype: float64"
            ]
          },
          "execution_count": 11,
          "metadata": {},
          "output_type": "execute_result"
        }
      ],
      "source": [
        "pd_series / 2   # using arithmatics to series"
      ]
    },
    {
      "cell_type": "code",
      "execution_count": null,
      "metadata": {
        "id": "V51BtFDN7n-7",
        "outputId": "077f3205-280e-4bdb-c956-eb0f25ff1645"
      },
      "outputs": [
        {
          "data": {
            "text/plain": [
              "dtype('int64')"
            ]
          },
          "execution_count": 12,
          "metadata": {},
          "output_type": "execute_result"
        }
      ],
      "source": [
        "pd_series.dtype"
      ]
    },
    {
      "cell_type": "code",
      "execution_count": null,
      "metadata": {
        "id": "f0Mr-YFV7n-8",
        "outputId": "3937011e-0886-49f6-d6eb-2ecb910f2f63"
      },
      "outputs": [
        {
          "data": {
            "text/plain": [
              "numpy.int64"
            ]
          },
          "execution_count": 13,
          "metadata": {},
          "output_type": "execute_result"
        }
      ],
      "source": [
        "type(pd_series['a'])"
      ]
    },
    {
      "cell_type": "code",
      "execution_count": null,
      "metadata": {
        "id": "-y06r48x7n-8",
        "outputId": "69eada9e-b842-44ae-ad14-9a3bde185edd"
      },
      "outputs": [
        {
          "data": {
            "text/plain": [
              "7"
            ]
          },
          "execution_count": 14,
          "metadata": {},
          "output_type": "execute_result"
        }
      ],
      "source": [
        "pd_series.size"
      ]
    },
    {
      "cell_type": "code",
      "execution_count": null,
      "metadata": {
        "id": "DUATOnw37n-8",
        "outputId": "80266f21-ea25-45b8-c7a3-42b2e79518ff"
      },
      "outputs": [
        {
          "data": {
            "text/plain": [
              "(7,)"
            ]
          },
          "execution_count": 15,
          "metadata": {},
          "output_type": "execute_result"
        }
      ],
      "source": [
        "pd_series.shape"
      ]
    },
    {
      "cell_type": "code",
      "execution_count": null,
      "metadata": {
        "id": "cS3mleY67n-9",
        "outputId": "044baf4e-b0a3-4e76-a8b8-70bc39bc4ff7"
      },
      "outputs": [
        {
          "data": {
            "text/plain": [
              "a    10\n",
              "b    20\n",
              "c    30\n",
              "d    40\n",
              "e    50\n",
              "dtype: int64"
            ]
          },
          "execution_count": 21,
          "metadata": {},
          "output_type": "execute_result"
        }
      ],
      "source": [
        "pd_series.head()  # this will give the first 5 of the series"
      ]
    },
    {
      "cell_type": "code",
      "execution_count": null,
      "metadata": {
        "id": "N8RTrhM57n-9",
        "outputId": "22129a6d-7d5d-4dce-a250-922e700fef19"
      },
      "outputs": [
        {
          "data": {
            "text/plain": [
              "a    10\n",
              "b    20\n",
              "dtype: int64"
            ]
          },
          "execution_count": 22,
          "metadata": {},
          "output_type": "execute_result"
        }
      ],
      "source": [
        "pd_series.head(2)  #  you can determine the amount need to print from the top by passing it inside the bracket"
      ]
    },
    {
      "cell_type": "code",
      "execution_count": null,
      "metadata": {
        "id": "6OZx9DAT7n-9",
        "outputId": "6439b5b6-3274-4b9e-bb08-883ed3f5b26b"
      },
      "outputs": [
        {
          "data": {
            "text/plain": [
              "c    30\n",
              "d    40\n",
              "e    50\n",
              "f    60\n",
              "g    70\n",
              "dtype: int64"
            ]
          },
          "execution_count": 23,
          "metadata": {},
          "output_type": "execute_result"
        }
      ],
      "source": [
        "pd_series.tail()   # this give the last 5 of the series"
      ]
    },
    {
      "cell_type": "code",
      "execution_count": null,
      "metadata": {
        "id": "AEu1QLo07n-9",
        "outputId": "25982c4e-a656-4a36-bd6e-90abcd431a96"
      },
      "outputs": [
        {
          "data": {
            "text/plain": [
              "d    40\n",
              "e    50\n",
              "f    60\n",
              "g    70\n",
              "dtype: int64"
            ]
          },
          "execution_count": 24,
          "metadata": {},
          "output_type": "execute_result"
        }
      ],
      "source": [
        "pd_series.tail(4)   # you can determine the amount need to print from the top by passing it inside the bracket"
      ]
    },
    {
      "cell_type": "code",
      "execution_count": null,
      "metadata": {
        "id": "RO3i8SkZ7n-9",
        "outputId": "1b44f734-953b-457b-e3c3-7e92f511141a"
      },
      "outputs": [
        {
          "data": {
            "text/plain": [
              "count     7.000000\n",
              "mean     40.000000\n",
              "std      21.602469\n",
              "min      10.000000\n",
              "25%      25.000000\n",
              "50%      40.000000\n",
              "75%      55.000000\n",
              "max      70.000000\n",
              "dtype: float64"
            ]
          },
          "execution_count": 27,
          "metadata": {},
          "output_type": "execute_result"
        }
      ],
      "source": [
        "pd_series.describe()  # this give many info of the series as seen, like mininmum, mean e.t.c"
      ]
    },
    {
      "cell_type": "code",
      "execution_count": null,
      "metadata": {
        "id": "w_7IJVYx7n--",
        "outputId": "2a221abe-128e-4df4-bb21-a8798d35a049"
      },
      "outputs": [
        {
          "data": {
            "text/plain": [
              "g    70\n",
              "f    60\n",
              "e    50\n",
              "d    40\n",
              "c    30\n",
              "b    20\n",
              "a    10\n",
              "dtype: int64"
            ]
          },
          "execution_count": 28,
          "metadata": {},
          "output_type": "execute_result"
        }
      ],
      "source": [
        "pd_series.sort_values(ascending=False)  # to make the series appear in discending order"
      ]
    },
    {
      "cell_type": "code",
      "execution_count": null,
      "metadata": {
        "id": "bTz9JjwR7n--"
      },
      "outputs": [],
      "source": []
    }
  ],
  "metadata": {
    "kernelspec": {
      "display_name": "base",
      "language": "python",
      "name": "python3"
    },
    "language_info": {
      "codemirror_mode": {
        "name": "ipython",
        "version": 3
      },
      "file_extension": ".py",
      "mimetype": "text/x-python",
      "name": "python",
      "nbconvert_exporter": "python",
      "pygments_lexer": "ipython3",
      "version": "3.12.7"
    },
    "colab": {
      "provenance": [],
      "include_colab_link": true
    }
  },
  "nbformat": 4,
  "nbformat_minor": 0
}